{
  "cells": [
    {
      "cell_type": "markdown",
      "metadata": {
        "colab_type": "text",
        "id": "view-in-github"
      },
      "source": [
        "<center><img src=\"Logo PI MLOps STEAM.png\" alt=\"Logo PI MLOps STEAM\"></center>"
      ]
    },
    {
      "cell_type": "markdown",
      "metadata": {},
      "source": [
        "#### Importo los df para trabajar"
      ]
    },
    {
      "cell_type": "code",
      "execution_count": 1,
      "metadata": {},
      "outputs": [],
      "source": [
        "# Importo librerías.\n",
        "import pandas as pd\n",
        "\n",
        "# Rutas a los DataFrames procesados en CSV\n",
        "ruta_steam_games_csv = r'C:\\Users\\Esteban García\\OneDrive\\Escritorio\\LABs\\PI MLOps - STEAM 01\\Df procesados en csv\\steam_games.csv'\n",
        "ruta_user_reviews_csv = r'C:\\Users\\Esteban García\\OneDrive\\Escritorio\\LABs\\PI MLOps - STEAM 01\\Df procesados en csv\\user_reviews.csv'\n",
        "ruta_users_items_csv = r'C:\\Users\\Esteban García\\OneDrive\\Escritorio\\LABs\\PI MLOps - STEAM 01\\Df procesados en csv\\users_items.csv'\n",
        "\n",
        "# Convierte los archivos CSV en DataFrames de pandas\n",
        "df_steam_games = pd.read_csv(ruta_steam_games_csv)\n",
        "df_user_reviews = pd.read_csv(ruta_user_reviews_csv)\n",
        "df_users_items = pd.read_csv(ruta_users_items_csv)\n"
      ]
    },
    {
      "cell_type": "markdown",
      "metadata": {},
      "source": [
        "Visualizo las columnas"
      ]
    },
    {
      "cell_type": "code",
      "execution_count": 2,
      "metadata": {},
      "outputs": [
        {
          "name": "stdout",
          "output_type": "stream",
          "text": [
            "Index(['publisher', 'app_name', 'title', 'año de lanzamiento', 'año', 'price',\n",
            "       'user_id', 'developer', 'genres_Action_new', 'genres_Adventure_new',\n",
            "       'genres_Indie_new', 'tags_Action_new', 'tags_Adventure_new',\n",
            "       'tags_Casual_new', 'tags_Indie_new'],\n",
            "      dtype='object')\n",
            "Index(['user_id', 'item_id', 'recommend', 'coincide'], dtype='object')\n",
            "Index(['user_id', 'items_count', 'steam_id', 'user_url', 'playtime_forever',\n",
            "       'playtime_2weeks'],\n",
            "      dtype='object')\n"
          ]
        }
      ],
      "source": [
        "print(df_steam_games.columns)\n",
        "print(df_user_reviews.columns)\n",
        "print(df_users_items.columns)\n",
        "Index(['publisher', 'app_name', 'title', 'año de lanzamiento', 'año', 'price',\n",
        "       'user_id', 'developer', 'genres_Action_new', 'genres_Adventure_new',\n",
        "       'genres_Indie_new', 'tags_Action_new', 'tags_Adventure_new',\n",
        "       'tags_Casual_new', 'tags_Indie_new'],\n",
        "      dtype='object')\n",
        "Index(['user_id', 'item_id', 'recommend', 'coincide'], dtype='object')\n",
        "Index(['user_id', 'items_count', 'steam_id', 'user_url', 'playtime_forever',\n",
        "       'playtime_2weeks'],\n",
        "      dtype='object')\n"
      ]
    },
    {
      "cell_type": "markdown",
      "metadata": {},
      "source": [
        "#### Creo 'Sentiment_analysis'"
      ]
    },
    {
      "cell_type": "code",
      "execution_count": 10,
      "metadata": {},
      "outputs": [],
      "source": [
        "\n",
        "def analyze_sentiment(item_id):\n",
        "    \"\"\"\n",
        "    Analizo el sentimiento de un ítem y devuelve un valor en la escala 0 (malo), 1 (neutral) o 2 (positivo).\n",
        "    \"\"\"\n",
        "    # Convierto a cadena si 'item_id' no es una cadena\n",
        "    item_id_str = str(item_id) if not isinstance(item_id, str) else item_id\n",
        "    \n",
        "    # Simulo el análisis de sentimiento e implemento aquí tu lógica real con NLP para clasificar las reseñas.\n",
        "    return 0 if \"malo\" in item_id_str.lower() else 1 if \"neutral\" in item_id_str.lower() else 2\n",
        "\n",
        "if 'item_id' in df_user_reviews.columns:\n",
        "    df_user_reviews['sentiment_analysis'] = df_user_reviews['item_id'].apply(analyze_sentiment)\n",
        "else:\n",
        "    print(\"La columna 'item_id' no está presente en df_user_reviews.\")\n"
      ]
    },
    {
      "cell_type": "markdown",
      "metadata": {},
      "source": [
        "#### Verifico el tipo de dato en cada columna."
      ]
    },
    {
      "cell_type": "code",
      "execution_count": 21,
      "metadata": {},
      "outputs": [
        {
          "name": "stdout",
          "output_type": "stream",
          "text": [
            "            nombre_campo                        tipo_datos  no_nulos_%  \\\n",
            "0              publisher  [<class 'str'>, <class 'float'>]       99.92   \n",
            "1               app_name                   [<class 'str'>]      100.00   \n",
            "2                  title                   [<class 'str'>]      100.00   \n",
            "3     año de lanzamiento                   [<class 'str'>]      100.00   \n",
            "4                    año                   [<class 'int'>]      100.00   \n",
            "5                  price                   [<class 'str'>]      100.00   \n",
            "6                user_id                   [<class 'int'>]      100.00   \n",
            "7              developer                   [<class 'str'>]      100.00   \n",
            "8      genres_Action_new                   [<class 'int'>]      100.00   \n",
            "9   genres_Adventure_new                   [<class 'int'>]      100.00   \n",
            "10      genres_Indie_new                   [<class 'int'>]      100.00   \n",
            "11       tags_Action_new                   [<class 'int'>]      100.00   \n",
            "12    tags_Adventure_new                   [<class 'int'>]      100.00   \n",
            "13       tags_Casual_new                   [<class 'int'>]      100.00   \n",
            "14        tags_Indie_new                   [<class 'int'>]      100.00   \n",
            "\n",
            "    nulos_%  nulos  \n",
            "0      0.08     19  \n",
            "1      0.00      0  \n",
            "2      0.00      0  \n",
            "3      0.00      0  \n",
            "4      0.00      0  \n",
            "5      0.00      0  \n",
            "6      0.00      0  \n",
            "7      0.00      0  \n",
            "8      0.00      0  \n",
            "9      0.00      0  \n",
            "10     0.00      0  \n",
            "11     0.00      0  \n",
            "12     0.00      0  \n",
            "13     0.00      0  \n",
            "14     0.00      0  \n"
          ]
        }
      ],
      "source": [
        "\n",
        "def verificar_tipo_datos(df):\n",
        "    \"\"\"\n",
        "    Verifico el tipo de datos en cada columna de un DataFrame y devuelve un resumen.\n",
        "    \"\"\"\n",
        "    mi_dict = {\"nombre_campo\": [], \"tipo_datos\": [], \"no_nulos_%\": [], \"nulos_%\": [], \"nulos\": []}\n",
        "    for columna in df.columns:\n",
        "        porcentaje_no_nulos = (df[columna].count() / len(df)) * 100\n",
        "        mi_dict[\"nombre_campo\"].append(columna)\n",
        "        mi_dict[\"tipo_datos\"].append(df[columna].apply(type).unique())\n",
        "        mi_dict[\"no_nulos_%\"].append(round(porcentaje_no_nulos, 2))\n",
        "        mi_dict[\"nulos_%\"].append(round(100 - porcentaje_no_nulos, 2))\n",
        "        mi_dict[\"nulos\"].append(df[columna].isnull().sum())\n",
        "\n",
        "    df_info = pd.DataFrame(mi_dict)\n",
        "    return df_info\n",
        "\n",
        "# Visualizo\n",
        "print(verificar_tipo_datos(df_steam_games))\n"
      ]
    },
    {
      "cell_type": "markdown",
      "metadata": {},
      "source": [
        "#### Verifico duplicados por columna."
      ]
    },
    {
      "cell_type": "code",
      "execution_count": 22,
      "metadata": {},
      "outputs": [],
      "source": [
        "\n",
        "def verifica_duplicados_por_columna(df, columna):\n",
        "    \"\"\"\n",
        "    Verifico duplicados en un DataFrame por una columna específica y devuelve los resultados ordenados.\n",
        "    \"\"\"\n",
        "    duplicated_rows = df[df.duplicated(subset=columna, keep=False)]\n",
        "    if duplicated_rows.empty:\n",
        "        return \"No hay duplicados\"\n",
        "    \n",
        "    duplicated_rows_sorted = duplicated_rows.sort_values(by=columna)\n",
        "    return duplicated_rows_sorted\n"
      ]
    },
    {
      "cell_type": "markdown",
      "metadata": {},
      "source": [
        "#### Configuro FastAPI para simular los endpoints."
      ]
    },
    {
      "cell_type": "code",
      "execution_count": null,
      "metadata": {},
      "outputs": [],
      "source": [
        "\n",
        "# Configuración de la API FastAPI\n",
        "app = FastAPI()\n"
      ]
    },
    {
      "cell_type": "markdown",
      "metadata": {},
      "source": [
        "Endpoint obtención año de lanzamiento con más horas jugadas para cada género."
      ]
    },
    {
      "cell_type": "code",
      "execution_count": 41,
      "metadata": {},
      "outputs": [],
      "source": [
        "@app.get(\"/playtime_genre/{genero}\")\n",
        "async def playtime_genre(genero: str):\n",
        "    genre_data = df_steam_games[df_steam_games[f\"genres_{genero}_new\"] == 1]\n",
        "\n",
        "    if genre_data.empty:\n",
        "        raise HTTPException(status_code=404, detail=f\"No hay datos para el género {genero}\")\n",
        "\n",
        "    genre_data['user_id'] = genre_data['user_id'].astype('object')\n",
        "\n",
        "    merged_data = pd.merge(genre_data, df_users_items, on='user_id', how='inner')\n",
        "    year_with_most_playtime = merged_data.groupby('año de lanzamiento')['playtime_forever'].sum().idxmax()\n",
        "\n",
        "    return {\"Año de lanzamiento con más horas jugadas para \" + genero: int(year_with_most_playtime)}\n"
      ]
    },
    {
      "cell_type": "markdown",
      "metadata": {},
      "source": [
        "Endpoint para obtener el usuario con más horas jugadas y las horas jugadas por año de lanzamiento para un género"
      ]
    },
    {
      "cell_type": "code",
      "execution_count": 42,
      "metadata": {},
      "outputs": [],
      "source": [
        "@app.get(\"/user_for_genre/{genero}\", response_model=dict)\n",
        "def UserForGenre(genero: str):\n",
        "    \"\"\"\n",
        "    Devuelve el usuario con más horas jugadas y las horas jugadas por año de lanzamiento para un género específico.\n",
        "    \"\"\"\n",
        "    # Lógica para el endpoint\n",
        "    # Utiliza información de df_steam_games y df_users_items\n",
        "    # (Ejemplo de retorno)\n",
        "    example_output = {\n",
        "        \"Usuario con más horas jugadas para \" + genero: \"us213ndjss09sdf\",\n",
        "        \"Horas jugadas\": [\n",
        "            {\"Año\": 2013, \"Horas\": 203},\n",
        "            {\"Año\": 2012, \"Horas\": 100},\n",
        "            {\"Año\": 2011, \"Horas\": 23}\n",
        "        ]\n",
        "    }\n",
        "    return JSONResponse(content=example_output)\n"
      ]
    },
    {
      "cell_type": "markdown",
      "metadata": {},
      "source": [
        "Endpoint para obtener el top 3 de juegos MÁS recomendados por usuarios para un año dado"
      ]
    },
    {
      "cell_type": "code",
      "execution_count": 43,
      "metadata": {},
      "outputs": [],
      "source": [
        "@app.get(\"/users_recommend/{año}\", response_model=list)\n",
        "def UsersRecommend(año: int):\n",
        "    \"\"\"\n",
        "    Devuelve el top 3 de juegos MÁS recomendados por usuarios para un año dado.\n",
        "    \"\"\"\n",
        "    # Lógica para el endpoint\n",
        "    # Utiliza información de df_user_reviews\n",
        "    # (Ejemplo de retorno)\n",
        "    example_output = [\n",
        "        {\"Puesto 1\": \"X\"},\n",
        "        {\"Puesto 2\": \"Y\"},\n",
        "        {\"Puesto 3\": \"Z\"}\n",
        "    ]\n",
        "    return JSONResponse(content=example_output)\n"
      ]
    },
    {
      "cell_type": "markdown",
      "metadata": {},
      "source": [
        "Endpoint para obtener el top 3 de juegos MENOS recomendados por usuarios para un año dado"
      ]
    },
    {
      "cell_type": "code",
      "execution_count": 44,
      "metadata": {},
      "outputs": [],
      "source": [
        "@app.get(\"/users_not_recommend/{año}\", response_model=list)\n",
        "def UsersNotRecommend(año: int):\n",
        "    \"\"\"\n",
        "    Devuelve el top 3 de juegos MENOS recomendados por usuarios para un año dado.\n",
        "    \"\"\"\n",
        "    # Lógica para el endpoint\n",
        "    # Utiliza información de df_user_reviews\n",
        "    # (Ejemplo de retorno)\n",
        "    example_output = [\n",
        "        {\"Puesto 1\": \"X\"},\n",
        "        {\"Puesto 2\": \"Y\"},\n",
        "        {\"Puesto 3\": \"Z\"}\n",
        "    ]\n",
        "    return JSONResponse(content=example_output)"
      ]
    },
    {
      "cell_type": "markdown",
      "metadata": {},
      "source": [
        "Endpoint para obtener el análisis de sentimiento para un año dado.\n"
      ]
    },
    {
      "cell_type": "code",
      "execution_count": 45,
      "metadata": {},
      "outputs": [],
      "source": [
        "@app.get(\"/sentiment_analysis/{año}\", response_model=dict)\n",
        "def sentiment_analysis(año: int):\n",
        "    \"\"\"\n",
        "    Devuelve el análisis de sentimiento para un año dado.\n",
        "    \"\"\"\n",
        "    # Lógica para el endpoint\n",
        "    # Utiliza información de df_user_reviews\n",
        "    # (Ejemplo de retorno)\n",
        "    example_output = {'Negativo': 182, 'Neutro': 120, 'Positivo': 278}\n",
        "    return JSONResponse(content=example_output)\n"
      ]
    }
  ],
  "metadata": {
    "colab": {
      "authorship_tag": "ABX9TyN4uETl7l05jmHnhiYCkL0d",
      "collapsed_sections": [
        "kHsfYIwj-syt",
        "tizoc5v8xP5N",
        "YLslXqhF0FBU",
        "7zyjTA3m0ET2",
        "4u-r4A0uBo90",
        "37kvL8uFigqG",
        "8C4e-lIDxLZY",
        "m7cEAwOHxYc6"
      ],
      "include_colab_link": true,
      "mount_file_id": "1vFX5bLIY2CpXm8hfHjm9DvS3XOt1HzJd",
      "provenance": []
    },
    "kernelspec": {
      "display_name": "Python 3",
      "name": "python3"
    },
    "language_info": {
      "codemirror_mode": {
        "name": "ipython",
        "version": 3
      },
      "file_extension": ".py",
      "mimetype": "text/x-python",
      "name": "python",
      "nbconvert_exporter": "python",
      "pygments_lexer": "ipython3",
      "version": "3.11.7"
    }
  },
  "nbformat": 4,
  "nbformat_minor": 0
}
